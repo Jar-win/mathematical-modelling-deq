{
 "cells": [
  {
   "cell_type": "code",
   "execution_count": null,
   "metadata": {},
   "outputs": [],
   "source": [
    "t= [0:0.5:100]\n",
    "function dy= f(t, y, c)\n",
    "    dy= 10*(0.2+ 0.1*sin(t)) - 0.1*y;\n",
    "endfunction\n",
    "sol= ode(0, 0, t, f)\n",
    "clf()\n",
    "\n",
    "subplot(3, 1, 1)\n",
    "title(\"y(0)= 0; C(t)= 0.2 + 0.1 sin(t)\")\n",
    "plot(t, sol)\n",
    "xlabel('Time, t')\n",
    "ylabel('Pollutant count, y(t)')\n"
   ]
  },
  {
   "cell_type": "code",
   "execution_count": null,
   "metadata": {},
   "outputs": [],
   "source": []
  }
 ],
 "metadata": {
  "kernelspec": {
   "display_name": "Scilab",
   "language": "scilab",
   "name": "scilab"
  }
 },
 "nbformat": 4,
 "nbformat_minor": 2
}
