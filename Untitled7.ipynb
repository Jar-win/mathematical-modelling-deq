{
 "cells": [
  {
   "cell_type": "code",
   "execution_count": 10,
   "metadata": {},
   "outputs": [],
   "source": [
    "from sympy import *\n",
    "import numpy as np\n",
    "from sympy import init_printing\n",
    "init_printing()"
   ]
  },
  {
   "cell_type": "code",
   "execution_count": 13,
   "metadata": {},
   "outputs": [],
   "source": [
    "x, y, t = symbols('x y t')"
   ]
  },
  {
   "cell_type": "code",
   "execution_count": 8,
   "metadata": {},
   "outputs": [
    {
     "data": {
      "text/plain": [
       "y"
      ]
     },
     "execution_count": 8,
     "metadata": {},
     "output_type": "execute_result"
    }
   ],
   "source": [
    "y"
   ]
  },
  {
   "cell_type": "code",
   "execution_count": 12,
   "metadata": {},
   "outputs": [],
   "source": [
    "f = Function('f')"
   ]
  },
  {
   "cell_type": "code",
   "execution_count": 31,
   "metadata": {},
   "outputs": [
    {
     "data": {
      "image/png": "[encoded data removed]",
      "text/latex": [
       "$$f{\\left (x \\right )} + \\frac{d}{d x} f{\\left (x \\right )} - 1$$"
      ],
      "text/plain": [
       "       d           \n",
       "f(x) + ──(f(x)) - 1\n",
       "       dx          "
      ]
     },
     "execution_count": 31,
     "metadata": {},
     "output_type": "execute_result"
    }
   ],
   "source": [
    "Derivative(f(x), x, 1) + f(x) - 1"
   ]
  },
  {
   "cell_type": "code",
   "execution_count": 32,
   "metadata": {},
   "outputs": [],
   "source": [
    "general_solution = dsolve(Derivative(f(x), x, 1) + f(x) - 1)"
   ]
  },
  {
   "cell_type": "code",
   "execution_count": 33,
   "metadata": {},
   "outputs": [
    {
     "data": {
      "image/png": "[encoded data removed]",
      "text/latex": [
       "$$f{\\left (x \\right )} = C_{1} e^{- x} + 1$$"
      ],
      "text/plain": [
       "           -x    \n",
       "f(x) = C₁⋅ℯ   + 1"
      ]
     },
     "execution_count": 33,
     "metadata": {},
     "output_type": "execute_result"
    }
   ],
   "source": [
    "general_solution"
   ]
  },
  {
   "cell_type": "code",
   "execution_count": 44,
   "metadata": {},
   "outputs": [
    {
     "data": {
      "image/png": "[encoded data removed]",
      "text/latex": [
       "$$f{\\left (x \\right )} = 1 - 4 e^{- x}$$"
      ],
      "text/plain": [
       "              -x\n",
       "f(x) = 1 - 4⋅ℯ  "
      ]
     },
     "execution_count": 44,
     "metadata": {},
     "output_type": "execute_result"
    }
   ],
   "source": [
    "general_solution.subs({x:0, f(x):-3})\n",
    "particular_solution = general_solution.subs({'C1':-4})\n",
    "particular_solution"
   ]
  },
  {
   "cell_type": "code",
   "execution_count": 46,
   "metadata": {},
   "outputs": [
    {
     "data": {
      "image/png": "[encoded data removed]",
      "text/latex": [
       "$$f{\\left (x \\right )} = 1 - 2 e^{- x}$$"
      ],
      "text/plain": [
       "              -x\n",
       "f(x) = 1 - 2⋅ℯ  "
      ]
     },
     "execution_count": 46,
     "metadata": {},
     "output_type": "execute_result"
    }
   ],
   "source": [
    "general_solution.subs({x:0, f(x):-1})\n",
    "particular_solution1 = general_solution.subs({'C1':-2})\n",
    "particular_solution1"
   ]
  },
  {
   "cell_type": "code",
   "execution_count": 50,
   "metadata": {},
   "outputs": [
    {
     "data": {
      "image/png": "[encoded data removed]",
      "text/latex": [
       "$$f{\\left (x \\right )} = 1$$"
      ],
      "text/plain": [
       "f(x) = 1"
      ]
     },
     "execution_count": 50,
     "metadata": {},
     "output_type": "execute_result"
    }
   ],
   "source": [
    "general_solution.subs({x:0, f(x):1})\n",
    "particular_solution2 = general_solution.subs({'C1':0})\n",
    "particular_solution2"
   ]
  },
  {
   "cell_type": "code",
   "execution_count": 51,
   "metadata": {},
   "outputs": [
    {
     "data": {
      "image/png": "[encoded data removed]",
      "text/latex": [
       "$$f{\\left (x \\right )} = 1 + 2 e^{- x}$$"
      ],
      "text/plain": [
       "              -x\n",
       "f(x) = 1 + 2⋅ℯ  "
      ]
     },
     "execution_count": 51,
     "metadata": {},
     "output_type": "execute_result"
    }
   ],
   "source": [
    "general_solution.subs({x:0, f(x):3})\n",
    "particular_solution3 = general_solution.subs({'C1':2})\n",
    "particular_solution3"
   ]
  },
  {
   "cell_type": "code",
   "execution_count": 53,
   "metadata": {},
   "outputs": [],
   "source": [
    "import matplotlib.pyplot as plt"
   ]
  },
  {
   "cell_type": "markdown",
   "metadata": {},
   "source": [
    "def vector_field(function, coordinate_range=[(-2,2),(-2,2)], resolution=20):\n",
    "    a = np.linspace(coordinate_range[0][0], coordinate_range[0][1], resolution)\n",
    "    b = np.linspace(coordinate_range[1][0], coordinate_range[1][1], resolution)\n",
    "    X,Y = np.meshgrid(a,b) # creating meshgrid\n",
    "    p = lambdify([x,y], function[0], \"numpy\")\n",
    "    q = lambdify([x,y], function[1], \"numpy\")\n",
    "    U = p(X,Y)\n",
    "    V = q(X,Y)\n",
    "    Q = plt.quiver(X, Y, U, V, units='width')\n",
    "    plt.grid(True)\n",
    "    plt.show()\n",
    "\n",
    "if __name__ == '__main__':\n",
    "    x,y = symbols('x y')\n",
    "    func = [y-1,y-1]#[x**y+x**2, y**y]\n",
    "    v = vector_field(func, coordinate_range=[(-10,10),(-10,10)], resolution=25)"
   ]
  },
  {
   "cell_type": "code",
   "execution_count": 71,
   "metadata": {},
   "outputs": [],
   "source": [
    "import math\n",
    "from subprocess import CalledProcessError, call, check_call\n",
    "\n",
    "def dy_dx(x, y):\n",
    "    try:\n",
    "        return 1-y # dy/dx \n",
    "    except ZeroDivisionError:\n",
    "        return 1000.0\n",
    "\n",
    "XMIN = -8.0\n",
    "XMAX = 8.0\n",
    "YMIN = -8.0\n",
    "YMAX = 8.0\n",
    "XSCL = 1\n",
    "YSCL = 1\n",
    "\n",
    "DISTANCE = 0.4\n",
    "\n",
    "def main():\n",
    "    fileobj = open(\"data.txt\", \"w\")\n",
    "    for x1 in range(int(XMIN / XSCL), int(XMAX / XSCL)):\n",
    "        for y1 in range(int(YMIN / YSCL), int(YMAX / YSCL)):\n",
    "            x= float(x1 * XSCL)\n",
    "            y= float(y1 * YSCL)\n",
    "            slope = dy_dx(x,y)\n",
    "            dx = math.sqrt( DISTANCE/( 1+math.pow(slope,2) ) )\n",
    "            dy = slope*dx\n",
    "            fileobj.write(str(x) + \" \" + str(y) + \" \" + str(dx) + \" \" + str(dy) + \"\\n\")\n",
    "    fileobj.close()\n",
    "\n",
    "\n",
    "\n",
    "    try:\n",
    "        check_call([\"gnuplot\",\"-e\",\"set terminal png size 800,600 enhanced font \\\"Arial,12\\\"; set xrange [\" + str(XMIN) + \":\" + str(XMAX) + \"]; set yrange [\" + str(YMIN) + \":\" + str(YMAX) + \"]; set output 'output.png'; plot 'data.txt' using 1:2:3:4 with vectors\"])\n",
    "    except (CalledProcessError, OSError):\n",
    "        print(\"Error: gnuplot not found on system!\")\n",
    "        exit(1)\n",
    "    print(\"Saved image to output.png\")\n",
    "    call([\"xdg-open\",\"output.png\"])\n",
    "    return 0"
   ]
  },
  {
   "cell_type": "markdown",
   "metadata": {},
   "source": [
    "<img src=\"output.png\">"
   ]
  },
  {
   "cell_type": "code",
   "execution_count": 1,
   "metadata": {},
   "outputs": [],
   "source": [
    "import pylab as p\n",
    "from numpy import *\n",
    "from scipy import integrate"
   ]
  },
  {
   "cell_type": "code",
   "execution_count": 8,
   "metadata": {},
   "outputs": [
    {
     "name": "stdout",
     "output_type": "stream",
     "text": [
      "Writing lotka.py\n"
     ]
    }
   ],
   "source": [
    "\n",
    "from numpy import *\n",
    "import pylab as p\n",
    "# Parameters\n",
    "k = [0.00231, 0.00731, 0.0231, 0.0731, 0.231] \n",
    "a = -0.6931\n",
    "b = 0.6931 \n",
    "c = -k[-1]\n",
    "d = 0.75\n",
    "\n",
    "def dX_dt(X, t=0):\n",
    "    \"\"\" Return the growth rate of foxes and rabbits populations. \"\"\"\n",
    "    return array([ a*X[0] -   b*X[0]*X[1] ,  \n",
    "                  -c*X[1] + d*b*X[0]*X[1] ])\n",
    "\n",
    "X_f0 = array([1, 0.])\n",
    "X_f1 = array([ c/(d*b), a/b])\n",
    "all(dX_dt(X_f0) == zeros(2) ) and all(dX_dt(X_f1) == zeros(2)) # => True \n",
    "#  \n",
    "def d2X_dt2(X, t=0):\n",
    "    \"\"\" Return the jacobian matrix evaluated in X. \"\"\"\n",
    "    return array([[a -b*X[1],   -b*X[0]     ],\n",
    "                  [b*d*X[1] ,   -c +b*d*X[0]] ])  \n",
    "# \n",
    "A_f1 = d2X_dt2(X_f1)                    # >>> array([[ 0.  , -2.  ],\n",
    "                                        #            [ 0.75,  0.  ]])\n",
    "\n",
    "lambda1, lambda2 = linalg.eigvals(A_f1) # >>> (1.22474j, -1.22474j)\n",
    "\n",
    "T_f1 = 2*pi/abs(lambda1)                # >>> 5.130199\n",
    "\n",
    "from scipy import integrate\n",
    "\n",
    "t = linspace(0, 15,  1000)              # time\n",
    "X0 = array([10, 5])                     # initials conditions: 10 rabbits and 5 foxes  \n",
    "\n",
    "X, infodict = integrate.odeint(dX_dt, X0, t, full_output=True)\n",
    "infodict['message']                     # >>> 'Integration successful.'\n",
    "rabbits, foxes = X.T\n",
    "\n",
    "f1 = p.figure()\n",
    "p.plot(t, rabbits, 'r-', label='Rabbits')\n",
    "p.plot(t, foxes  , 'b-', label='Foxes')\n",
    "p.grid()\n",
    "p.legend(loc='best')\n",
    "p.xlabel('time')\n",
    "p.ylabel('population')\n",
    "p.title('Evolution of fox and rabbit populations')\n",
    "f1.savefig('rabbits_and_foxes_1.png')\n",
    "\n",
    "\n",
    "values = linspace(0.3, 0.9, 10)                          # position of X0 between X_f0 and X_f1\n",
    "vcolors = p.cm.Greens(linspace(0.3, 1., len(values)))   # colors for each trajectory\n",
    "\n",
    "f2 = p.figure()\n",
    "\n",
    "for v, col in zip(values, vcolors): \n",
    "    X0 = v * X_f1                               # starting point\n",
    "    X = integrate.odeint( dX_dt, X0, t)         # we don't need infodict here\n",
    "    p.plot( X[:,0], X[:,1], lw=3.5*v, color=col, label='X0=(%.f, %.f)' % ( X0[0], X0[1]) )\n",
    "\n",
    "ymax = p.ylim(ymin=0)[1]                        # get axis limits\n",
    "xmax = p.xlim(xmin=0)[1] \n",
    "nb_points   = 20                      \n",
    "\n",
    "x = linspace(0, xmax, nb_points)\n",
    "y = linspace(0, ymax, nb_points)\n",
    "\n",
    "X1 , Y1  = meshgrid(x, y)                       # create a grid\n",
    "DX1, DY1 = dX_dt([X1, Y1])                      # compute growth rate on the gridt\n",
    "M = (hypot(DX1, DY1))                           # Norm of the growth rate \n",
    "M[ M == 0] = 1.                                 # Avoid zero division errors \n",
    "DX1 /= M                                        # Normalize each arrows\n",
    "DY1 /= M                                  \n",
    "\n",
    "p.title('Trajectories and direction field')\n",
    "Q = p.quiver(X1, Y1, DX1, DY1, M, pivot='mid', cmap=p.cm.autumn)\n",
    "p.xlabel('Number of Rabbits')\n",
    "p.ylabel('Number of Foxes')\n",
    "p.legend()\n",
    "p.grid()\n",
    "p.xlim(0, xmax)\n",
    "p.ylim(0, ymax)\n",
    "f2.savefig('rabbits_and_foxes_2.png')\n",
    "\n",
    "def IF(X):\n",
    "    u, v = X\n",
    "    return u**(c/a) * v * exp( -(b/a)*(d*u+v) )\n",
    "\n",
    "def IF2(X):\n",
    "    u, v = X\n",
    "    return u**(c/a) * v * exp( -(b/a)*(d*u+v) )\n",
    "\n",
    "# We will verify that IF remains constant for differents trajectories\n",
    "for v in values: \n",
    "    X0 = v * X_f1                               # starting point\n",
    "    X = integrate.odeint( dX_dt, X0, t)         \n",
    "    I = IF(X.T)                                 # compute IF along the trajectory\n",
    "    I_mean = I.mean()\n",
    "    delta = 100 * (I.max()-I.min())/I_mean\n",
    "\n",
    "nb_points = 80                              # grid size \n",
    "\n",
    "x = linspace(0, xmax, nb_points)    \n",
    "y = linspace(0, ymax, nb_points)\n",
    "\n",
    "X2 , Y2  = meshgrid(x, y)                   # create the grid\n",
    "Z2 = IF([X2, Y2])                           # compute IF on each point\n",
    "\n",
    "f3 = p.figure()\n",
    "CS = p.contourf(X2, Y2, Z2, cmap=p.cm.Purples_r, alpha=0.5)\n",
    "CS2 = p.contour(X2, Y2, Z2, colors='black', linewidths=2. )\n",
    "p.clabel(CS2, inline=1, fontsize=16, fmt='%.f')\n",
    "p.grid()\n",
    "p.xlabel('Number of Rabbits')\n",
    "p.ylabel('Number of Foxes')\n",
    "p.ylim(1, ymax)\n",
    "p.xlim(1, xmax)\n",
    "p.title('IF contours')\n",
    "f3.savefig('rabbits_and_foxes_3.png')\n",
    "p.show()\n",
    "# \n",
    "# \n",
    "# # vim: set et sts=4 sw=4:\n"
   ]
  },
  {
   "cell_type": "markdown",
   "metadata": {},
   "source": [
    "<img src=\"0.png\">"
   ]
  },
  {
   "cell_type": "code",
   "execution_count": 15,
   "metadata": {},
   "outputs": [],
   "source": [
    "y = Function('y')"
   ]
  },
  {
   "cell_type": "markdown",
   "metadata": {},
   "source": [
    "$$\\text{General Solution}: y(x) = \\frac{20 e^{2x}}{C_1 + e^{2x}}$$"
   ]
  },
  {
   "cell_type": "code",
   "execution_count": null,
   "metadata": {},
   "outputs": [],
   "source": []
  },
  {
   "cell_type": "code",
   "execution_count": 38,
   "metadata": {},
   "outputs": [],
   "source": [
    "xaxis = np.linspace(0, 10)"
   ]
  },
  {
   "cell_type": "code",
   "execution_count": 40,
   "metadata": {},
   "outputs": [],
   "source": [
    "val = [(20*np.exp(2*x)) / (4+np.exp(2*x)) for x in xaxis]"
   ]
  },
  {
   "cell_type": "code",
   "execution_count": 48,
   "metadata": {},
   "outputs": [],
   "source": [
    "carrying_capacity = [20 for i in xaxis]"
   ]
  },
  {
   "cell_type": "code",
   "execution_count": 55,
   "metadata": {},
   "outputs": [
    {
     "data": {
      "text/plain": [
       "<matplotlib.legend.Legend at 0x7f9864e01ac8>"
      ]
     },
     "execution_count": 55,
     "metadata": {},
     "output_type": "execute_result"
    },
    {
     "data": {
      "image/png": "[encoded data removed]",
      "text/plain": [
       "<Figure size 720x720 with 1 Axes>"
      ]
     },
     "metadata": {
      "needs_background": "light"
     },
     "output_type": "display_data"
    }
   ],
   "source": [
    "plt.figure(figsize=(10,10))\n",
    "plt.plot(xaxis, [(20*np.exp(2*x)) / (4+np.exp(2*x)) for x in xaxis])\n",
    "plt.plot(xaxis, [(20*np.exp(2*x)) / ((20/7)+np.exp(2*x)) for x in xaxis])\n",
    "plt.plot(xaxis, [(20*np.exp(2*x)) / ((20/9)+np.exp(2*x)) for x in xaxis])\n",
    "plt.plot(xaxis, [(20*np.exp(2*x)) / ((20/7)+np.exp(2*x)) for x in xaxis])\n",
    "plt.plot(xaxis, [(20*np.exp(2*x)) / ((2)+np.exp(2*x)) for x in xaxis])\n",
    "plt.grid(True)\n",
    "plt.plot(xaxis, carrying_capacity, label=\"Carrying Capacity\", linewidth = 2.0)\n",
    "\n",
    "plt.legend(loc=\"best\")"
   ]
  },
  {
   "cell_type": "code",
   "execution_count": null,
   "metadata": {},
   "outputs": [],
   "source": []
  }
 ],
 "metadata": {
  "kernelspec": {
   "display_name": "Python 3",
   "language": "python",
   "name": "python3"
  },
  "language_info": {
   "codemirror_mode": {
    "name": "ipython",
    "version": 3
   },
   "file_extension": ".py",
   "mimetype": "text/x-python",
   "name": "python",
   "nbconvert_exporter": "python",
   "pygments_lexer": "ipython3",
   "version": "3.6.7"
  }
 },
 "nbformat": 4,
 "nbformat_minor": 2
}
