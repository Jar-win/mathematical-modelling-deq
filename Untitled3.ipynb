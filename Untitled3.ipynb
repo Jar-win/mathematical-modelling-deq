{
 "cells": [
  {
   "cell_type": "code",
   "execution_count": 1,
   "metadata": {},
   "outputs": [],
   "source": [
    "from sympy import *"
   ]
  },
  {
   "cell_type": "code",
   "execution_count": 2,
   "metadata": {},
   "outputs": [],
   "source": [
    "from sympy import init_printing\n",
    "init_printing()"
   ]
  },
  {
   "cell_type": "markdown",
   "metadata": {},
   "source": [
    "## Undamped Motion"
   ]
  },
  {
   "cell_type": "code",
   "execution_count": 8,
   "metadata": {},
   "outputs": [],
   "source": [
    "a, m, k, t= symbols('a, m, k, t')\n",
    "x = Function('x')"
   ]
  },
  {
   "cell_type": "code",
   "execution_count": 9,
   "metadata": {},
   "outputs": [
    {
     "data": {
      "image/png": "[encoded data removed]",
      "text/latex": [
       "$$a \\frac{d}{d t} x{\\left (t \\right )} + k x{\\left (t \\right )} + m \\frac{d^{2}}{d t^{2}} x{\\left (t \\right )}$$"
      ],
      "text/plain": [
       "                          2      \n",
       "  d                      d       \n",
       "a⋅──(x(t)) + k⋅x(t) + m⋅───(x(t))\n",
       "  dt                      2      \n",
       "                        dt       "
      ]
     },
     "execution_count": 9,
     "metadata": {},
     "output_type": "execute_result"
    }
   ],
   "source": [
    "Derivative(x(t), t, 2)*m + a*Derivative(x(t), t, 1)+ k*x(t)"
   ]
  },
  {
   "cell_type": "code",
   "execution_count": 10,
   "metadata": {},
   "outputs": [],
   "source": [
    "general_solution = dsolve(Derivative(x(t), t, 2)*m + a*Derivative(x(t), t, 1)+ k*x(t))"
   ]
  },
  {
   "cell_type": "code",
   "execution_count": 11,
   "metadata": {},
   "outputs": [
    {
     "data": {
      "image/png": "[encoded data removed]",
      "text/latex": [
       "$$C_{1} e^{\\frac{t \\left(- a - \\sqrt{a^{2} - 4 k m}\\right)}{2 m}} + C_{2} e^{\\frac{t \\left(- a + \\sqrt{a^{2} - 4 k m}\\right)}{2 m}}$$"
      ],
      "text/plain": [
       "      ⎛        ____________⎞         ⎛        ____________⎞\n",
       "      ⎜       ╱  2         ⎟         ⎜       ╱  2         ⎟\n",
       "    t⋅⎝-a - ╲╱  a  - 4⋅k⋅m ⎠       t⋅⎝-a + ╲╱  a  - 4⋅k⋅m ⎠\n",
       "    ────────────────────────       ────────────────────────\n",
       "              2⋅m                            2⋅m           \n",
       "C₁⋅ℯ                         + C₂⋅ℯ                        "
      ]
     },
     "execution_count": 11,
     "metadata": {},
     "output_type": "execute_result"
    }
   ],
   "source": [
    "latex(genera)"
   ]
  },
  {
   "cell_type": "code",
   "execution_count": 12,
   "metadata": {},
   "outputs": [
    {
     "data": {
      "image/png": "[encoded data removed]",
      "text/latex": [
       "$$x{\\left (0 \\right )} = C_{1} + C_{2}$$"
      ],
      "text/plain": [
       "x(0) = C₁ + C₂"
      ]
     },
     "execution_count": 12,
     "metadata": {},
     "output_type": "execute_result"
    }
   ],
   "source": [
    "general_solution.subs({t:0, x:1.5})"
   ]
  },
  {
   "cell_type": "code",
   "execution_count": null,
   "metadata": {},
   "outputs": [],
   "source": []
  }
 ],
 "metadata": {
  "kernelspec": {
   "display_name": "Python 3",
   "language": "python",
   "name": "python3"
  },
  "language_info": {
   "codemirror_mode": {
    "name": "ipython",
    "version": 3
   },
   "file_extension": ".py",
   "mimetype": "text/x-python",
   "name": "python",
   "nbconvert_exporter": "python",
   "pygments_lexer": "ipython3",
   "version": "3.6.7"
  }
 },
 "nbformat": 4,
 "nbformat_minor": 2
}
