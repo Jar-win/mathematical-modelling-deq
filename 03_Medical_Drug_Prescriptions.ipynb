{
 "cells": [
  {
   "cell_type": "markdown",
   "metadata": {},
   "source": [
    "# Introduction: First Order Drug Elimination Kinetics"
   ]
  },
  {
   "cell_type": "markdown",
   "metadata": {},
   "source": [
    "\n",
    "Assuming the concentrations, H and C are determined experimentally for a given population, then $C_0$ is then the drug concentration for a single dose. = $C_0 = H-L$<br/>\n",
    "Also if $C_0$ is the concentration at time $t=0$, then mathematically <br/>\n",
    "$$\\frac{dC}{dt} = -kC; \\; \\; \\; \\; C(0) = C_0$$<br>\n",
    "$$\\int \\frac{dC}{dt} = \\int - k dt$$\n",
    "$$\\log c = -kt + c$$\n",
    "$$c = e^{-kt+c}$$\n",
    "At $t=0$, $c=c_0$\n",
    "We get, $c_0 = e^{c}$\n",
    "$$c = \\log c_0$$\n",
    "$$log c = -kt+\\log c_0$$\n"
   ]
  },
  {
   "cell_type": "code",
   "execution_count": 1,
   "metadata": {},
   "outputs": [],
   "source": [
    "from sympy import *"
   ]
  },
  {
   "cell_type": "code",
   "execution_count": 2,
   "metadata": {},
   "outputs": [],
   "source": [
    "import matplotlib.pyplot as plt"
   ]
  },
  {
   "cell_type": "code",
   "execution_count": 3,
   "metadata": {},
   "outputs": [],
   "source": [
    "from matplotlib import rcParams"
   ]
  },
  {
   "cell_type": "code",
   "execution_count": 4,
   "metadata": {},
   "outputs": [
    {
     "name": "stderr",
     "output_type": "stream",
     "text": [
      "/home/azazel/Documents/de-sympy/modelling_/lib/python3.6/site-packages/matplotlib/__init__.py:846: MatplotlibDeprecationWarning: \n",
      "The text.latex.unicode rcparam was deprecated in Matplotlib 2.2 and will be removed in 3.1.\n",
      "  \"2.2\", name=key, obj_type=\"rcparam\", addendum=addendum)\n"
     ]
    }
   ],
   "source": [
    "rcParams['text.usetex'] = True\n",
    "rcParams['text.latex.unicode'] = True"
   ]
  },
  {
   "cell_type": "code",
   "execution_count": 5,
   "metadata": {},
   "outputs": [],
   "source": [
    "from sympy import init_printing\n",
    "init_printing()"
   ]
  },
  {
   "cell_type": "code",
   "execution_count": 6,
   "metadata": {},
   "outputs": [],
   "source": [
    "t = Symbol('t')\n",
    "k = Symbol('k')\n",
    "C = Function('C')"
   ]
  },
  {
   "cell_type": "code",
   "execution_count": 7,
   "metadata": {},
   "outputs": [
    {
     "data": {
      "image/png": "[encoded data removed]",
      "text/latex": [
       "$$k C{\\left (t \\right )} + \\frac{d}{d t} C{\\left (t \\right )}$$"
      ],
      "text/plain": [
       "         d       \n",
       "k⋅C(t) + ──(C(t))\n",
       "         dt      "
      ]
     },
     "execution_count": 7,
     "metadata": {},
     "output_type": "execute_result"
    }
   ],
   "source": [
    "Derivative(C(t), t, 1)+k*C(t)"
   ]
  },
  {
   "cell_type": "code",
   "execution_count": 8,
   "metadata": {},
   "outputs": [
    {
     "data": {
      "image/png": "[encoded data removed]",
      "text/latex": [
       "$$C{\\left (t \\right )} = C_{1} e^{- k t}$$"
      ],
      "text/plain": [
       "           -k⋅t\n",
       "C(t) = C₁⋅ℯ    "
      ]
     },
     "execution_count": 8,
     "metadata": {},
     "output_type": "execute_result"
    }
   ],
   "source": [
    "dsolve(Derivative(C(t), t, 1)+k*C(t))"
   ]
  },
  {
   "cell_type": "code",
   "execution_count": 9,
   "metadata": {},
   "outputs": [],
   "source": [
    "model_solution = dsolve(Derivative(C(t), t, 1)+k*C(t))"
   ]
  },
  {
   "cell_type": "code",
   "execution_count": 10,
   "metadata": {},
   "outputs": [],
   "source": [
    "g1 = [model_solution.rhs.subs({\"C1\":100, k:0.05, t:i}) for i in range(0,100)]\n",
    "g2 = [model_solution.rhs.subs({\"C1\":100, k:0.1, t:i}) for i in range(0,100)]\n",
    "g3 = [model_solution.rhs.subs({\"C1\":50, k:0.05, t:i}) for i in range(0,100)]"
   ]
  },
  {
   "cell_type": "code",
   "execution_count": 17,
   "metadata": {},
   "outputs": [
    {
     "data": {
      "text/plain": [
       "Text(0.5, 1.0, 'Drug Concentration vs Time')"
      ]
     },
     "execution_count": 17,
     "metadata": {},
     "output_type": "execute_result"
    },
    {
     "data": {
      "image/png": "[encoded data removed]",
      "text/plain": [
       "<Figure size 576x396 with 1 Axes>"
      ]
     },
     "metadata": {
      "needs_background": "light"
     },
     "output_type": "display_data"
    }
   ],
   "source": [
    "plt.style.use(\"seaborn-notebook\")\n",
    "xaxis = range(0,100)\n",
    "plt.plot(xaxis, g1, label=\"$C_1 = 100; k=0.05$\", linewidth=1.5)\n",
    "plt.plot(xaxis, g2, label=\"$C_1 = 100; k=0.1$\", linewidth=1.5)\n",
    "plt.plot(xaxis, g3, label=\"$C_1 = 50; k=0.05$\", linewidth=1.5)\n",
    "plt.grid(True)\n",
    "plt.legend(loc=\"best\")\n",
    "plt.xlabel(\"$Time$\")\n",
    "plt.ylabel(\"$Drug \\; Concentration$\")\n",
    "plt.title(\"Drug Concentration vs Time\")"
   ]
  },
  {
   "cell_type": "markdown",
   "metadata": {},
   "source": [
    "$$C(t) = $$"
   ]
  },
  {
   "cell_type": "code",
   "execution_count": null,
   "metadata": {},
   "outputs": [],
   "source": [
    "# C0"
   ]
  },
  {
   "cell_type": "code",
   "execution_count": 15,
   "metadata": {},
   "outputs": [
    {
     "data": {
      "image/png": "[encoded data removed]",
      "text/latex": [
       "$$0.778800783071405$$"
      ],
      "text/plain": [
       "0.778800783071405"
      ]
     },
     "execution_count": 15,
     "metadata": {},
     "output_type": "execute_result"
    }
   ],
   "source": [
    "model_solution.rhs.subs({k:0.05, t:5, \"C1\":1})"
   ]
  },
  {
   "cell_type": "code",
   "execution_count": 31,
   "metadata": {},
   "outputs": [],
   "source": [
    "def piecewise_func(n, t, days):\n",
    "    if t <= days:\n",
    "        print(sum([model_solution.rhs.subs({\"C1\":1, k:0.05, t:i}) for i in range(0,5)]))\n",
    "    if t > n*days and t <= (n+1)*days:\n",
    "        print(sum([model_solution.rhs.subs({\"C1\":1, k:0.05, t:i}) for i in range(0,5)] + piecewise_func(n, t, n*d)))"
   ]
  },
  {
   "cell_type": "code",
   "execution_count": 32,
   "metadata": {},
   "outputs": [
    {
     "name": "stdout",
     "output_type": "stream",
     "text": [
      "5*exp(-0.05*t)\n"
     ]
    }
   ],
   "source": [
    "piecewise_func(5, 0, 5)"
   ]
  }
 ],
 "metadata": {
  "kernelspec": {
   "display_name": "Python 3",
   "language": "python",
   "name": "python3"
  },
  "language_info": {
   "codemirror_mode": {
    "name": "ipython",
    "version": 3
   },
   "file_extension": ".py",
   "mimetype": "text/x-python",
   "name": "python",
   "nbconvert_exporter": "python",
   "pygments_lexer": "ipython3",
   "version": "3.6.7"
  }
 },
 "nbformat": 4,
 "nbformat_minor": 2
}
